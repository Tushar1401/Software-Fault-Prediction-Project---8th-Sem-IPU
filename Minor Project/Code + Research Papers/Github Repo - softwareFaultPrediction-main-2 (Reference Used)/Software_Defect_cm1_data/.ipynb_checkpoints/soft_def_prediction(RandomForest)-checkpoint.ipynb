{
 "cells": [
  {
   "cell_type": "code",
   "execution_count": null,
   "metadata": {},
   "outputs": [],
   "source": [
    "import numpy as np \n",
    "import pandas as pd \n",
    "import matplotlib.pyplot as plt \n",
    "import seaborn as sns\n",
    "import plotly.plotly as py\n",
    "from plotly.offline import init_notebook_mode, iplot\n",
    "init_notebook_mode(connected=True)\n",
    "import plotly.graph_objs as go\n",
    "import os"
   ]
  },
  {
   "cell_type": "code",
   "execution_count": null,
   "metadata": {},
   "outputs": [],
   "source": [
    "# print(os.listdir(\"../Software_Defect\"))\n",
    "data = pd.read_csv('../Software_Defect_1/soft_def_1.csv')"
   ]
  },
  {
   "cell_type": "code",
   "execution_count": null,
   "metadata": {},
   "outputs": [],
   "source": [
    "defect_true_false = data.groupby('defects')['b'].apply(lambda x: x.count())\n",
    "print('False: ',defect_true_false[0])\n",
    "print('True: ',defect_true_false[1])"
   ]
  },
  {
   "cell_type": "code",
   "execution_count": null,
   "metadata": {},
   "outputs": [],
   "source": [
    "trace = go.Histogram(\n",
    "    x = data.defects,\n",
    "    opacity = 0.75,\n",
    "    name = \"Defects\",\n",
    "    marker = dict(color = 'green'))\n",
    "\n",
    "hist_data = [trace]\n",
    "hist_layout = go.Layout(barmode='overlay',\n",
    "                   title = 'Defects',\n",
    "                   xaxis = dict(title = 'True - False'),\n",
    "                   yaxis = dict(title = 'Frequency'),\n",
    ")\n",
    "fig = go.Figure(data = hist_data, layout = hist_layout)\n",
    "iplot(fig)"
   ]
  },
  {
   "cell_type": "code",
   "execution_count": null,
   "metadata": {},
   "outputs": [],
   "source": [
    "data.corr()"
   ]
  },
  {
   "cell_type": "code",
   "execution_count": null,
   "metadata": {},
   "outputs": [],
   "source": [
    "f,ax = plt.subplots(figsize = (15, 15))\n",
    "sns.heatmap(data.corr(), annot = True, linewidths = .5, fmt = '.2f')\n",
    "plt.show()"
   ]
  },
  {
   "cell_type": "code",
   "execution_count": null,
   "metadata": {},
   "outputs": [],
   "source": [
    "trace = go.Scatter(\n",
    "    x = data.v,\n",
    "    y = data.b,\n",
    "    mode = \"markers\",\n",
    "    name = \"Volume - Bug\",\n",
    "    marker = dict(color = 'darkblue'),\n",
    "    text = \"Bug (b)\")\n",
    "\n",
    "scatter_data = [trace]\n",
    "scatter_layout = dict(title = 'Volume - Bug',\n",
    "              xaxis = dict(title = 'Volume', ticklen = 5),\n",
    "              yaxis = dict(title = 'Bug' , ticklen = 5),\n",
    "             )\n",
    "fig = dict(data = scatter_data, layout = scatter_layout)\n",
    "iplot(fig)"
   ]
  },
  {
   "cell_type": "code",
   "execution_count": null,
   "metadata": {},
   "outputs": [],
   "source": [
    "data.isnull().sum()"
   ]
  },
  {
   "cell_type": "code",
   "execution_count": null,
   "metadata": {},
   "outputs": [],
   "source": [
    "trace1 = go.Box(\n",
    "    x = data.uniq_Op,\n",
    "    name = 'Unique Operators',\n",
    "    marker = dict(color = 'blue')\n",
    "    )\n",
    "box_data = [trace1]\n",
    "iplot(box_data)"
   ]
  },
  {
   "cell_type": "code",
   "execution_count": null,
   "metadata": {},
   "outputs": [],
   "source": [
    "def evaluation_control(data):    \n",
    "    evaluation = (data.n < 300) & (data.v < 1000 ) & (data.d < 50) & (data.e < 500000) & (data.t < 5000)\n",
    "    data['complexityEvaluation'] = pd.DataFrame(evaluation)\n",
    "    data['complexityEvaluation'] = ['Succesful' if evaluation == True else 'Redesign' for evaluation in data.complexityEvaluation]"
   ]
  },
  {
   "cell_type": "code",
   "execution_count": null,
   "metadata": {},
   "outputs": [],
   "source": [
    "evaluation_control(data)\n",
    "data"
   ]
  },
  {
   "cell_type": "code",
   "execution_count": null,
   "metadata": {},
   "outputs": [],
   "source": [
    "data.info()"
   ]
  },
  {
   "cell_type": "code",
   "execution_count": null,
   "metadata": {},
   "outputs": [],
   "source": [
    "data.groupby(\"complexityEvaluation\").size()"
   ]
  },
  {
   "cell_type": "code",
   "execution_count": null,
   "metadata": {},
   "outputs": [],
   "source": [
    "# Histogram\n",
    "trace = go.Histogram(\n",
    "    x = data.complexityEvaluation,\n",
    "    opacity = 0.75,\n",
    "    name = 'Complexity Evaluation',\n",
    "    marker = dict(color = 'darkorange')\n",
    ")\n",
    "hist_data = [trace]\n",
    "hist_layout = go.Layout(barmode='overlay',\n",
    "                   title = 'Complexity Evaluation',\n",
    "                   xaxis = dict(title = 'Succesful - Redesign'),\n",
    "                   yaxis = dict(title = 'Frequency')\n",
    ")\n",
    "fig = go.Figure(data = hist_data, layout = hist_layout)\n",
    "iplot(fig)"
   ]
  },
  {
   "cell_type": "code",
   "execution_count": null,
   "metadata": {},
   "outputs": [],
   "source": [
    "from sklearn import preprocessing\n",
    "\n",
    "scale_v = data[['v']]\n",
    "scale_b = data[['b']]\n",
    "\n",
    "minmax_scaler = preprocessing.MinMaxScaler()\n",
    "\n",
    "v_scaled = minmax_scaler.fit_transform(scale_v)\n",
    "b_scaled = minmax_scaler.fit_transform(scale_b)\n",
    "\n",
    "data['v_ScaledUp'] = pd.DataFrame(v_scaled)\n",
    "data['b_ScaledUp'] = pd.DataFrame(b_scaled)\n",
    "\n",
    "data"
   ]
  },
  {
   "cell_type": "code",
   "execution_count": null,
   "metadata": {},
   "outputs": [],
   "source": [
    "scaled_data = pd.concat([data.v , data.b , data.v_ScaledUp , data.b_ScaledUp], axis=1)\n",
    "scaled_data"
   ]
  },
  {
   "cell_type": "code",
   "execution_count": null,
   "metadata": {},
   "outputs": [],
   "source": [
    "data.info()"
   ]
  },
  {
   "cell_type": "code",
   "execution_count": null,
   "metadata": {},
   "outputs": [],
   "source": [
    "from sklearn.metrics import confusion_matrix, classification_report\n",
    "from sklearn.metrics import roc_curve, roc_auc_score\n",
    "from sklearn import model_selection\n",
    "\n",
    "X = data.iloc[:, :-10].values  #Select related attribute values for selection\n",
    "Y = data.complexityEvaluation.values   #Select classification attribute values"
   ]
  },
  {
   "cell_type": "code",
   "execution_count": null,
   "metadata": {},
   "outputs": [],
   "source": [
    "Y"
   ]
  },
  {
   "cell_type": "code",
   "execution_count": null,
   "metadata": {},
   "outputs": [],
   "source": [
    "#Parsing selection and verification datasets\n",
    "validation_size = 0.20\n",
    "seed = 7\n",
    "X_train, X_validation, Y_train, Y_validation = model_selection.train_test_split(X, Y, test_size = validation_size, random_state = seed)"
   ]
  },
  {
   "cell_type": "code",
   "execution_count": null,
   "metadata": {},
   "outputs": [],
   "source": [
    "from sklearn.ensemble import RandomForestClassifier"
   ]
  },
  {
   "cell_type": "code",
   "execution_count": null,
   "metadata": {},
   "outputs": [],
   "source": [
    "model=RandomForestClassifier(n_estimators=100)"
   ]
  },
  {
   "cell_type": "code",
   "execution_count": null,
   "metadata": {},
   "outputs": [],
   "source": [
    "from sklearn.model_selection import train_test_split\n",
    "X_train, X_test, y_train, y_test = train_test_split(X, Y, test_size = 0.2, random_state = 0)\n",
    "\n",
    "model.fit(X_train, y_train)\n",
    "\n",
    "y_pred = model.predict(X_test)\n",
    "\n",
    "#Summary of the predictions made by the classifier\n",
    "print(\"Random Forests Algorithm\")\n",
    "print(classification_report(y_test, y_pred))\n",
    "print(confusion_matrix(y_test, y_pred))\n",
    "#Accuracy score\n",
    "from sklearn.metrics import accuracy_score\n",
    "print(\"ACC: \",accuracy_score(y_pred,y_test))"
   ]
  }
 ],
 "metadata": {
  "kernelspec": {
   "display_name": "Python 3",
   "language": "python",
   "name": "python3"
  },
  "language_info": {
   "codemirror_mode": {
    "name": "ipython",
    "version": 3
   },
   "file_extension": ".py",
   "mimetype": "text/x-python",
   "name": "python",
   "nbconvert_exporter": "python",
   "pygments_lexer": "ipython3",
   "version": "3.6.4"
  }
 },
 "nbformat": 4,
 "nbformat_minor": 2
}
